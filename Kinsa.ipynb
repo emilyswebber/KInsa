{
 "cells": [
  {
   "cell_type": "markdown",
   "metadata": {},
   "source": [
    "## Getting data from Kinsa Health Weather Map Dashboard"
   ]
  },
  {
   "cell_type": "markdown",
   "metadata": {},
   "source": [
    "### Import Packages"
   ]
  },
  {
   "cell_type": "code",
   "execution_count": 7,
   "metadata": {},
   "outputs": [],
   "source": [
    "from IPython.display import IFrame\n",
    "import us\n",
    "import pandas as pd\n",
    "import json\n",
    "import requests\n",
    "import time"
   ]
  },
  {
   "cell_type": "markdown",
   "metadata": {},
   "source": [
    "### View Dashboard"
   ]
  },
  {
   "cell_type": "code",
   "execution_count": 9,
   "metadata": {},
   "outputs": [
    {
     "data": {
      "text/html": [
       "\n",
       "        <iframe\n",
       "            width=\"700\"\n",
       "            height=\"350\"\n",
       "            src=\"https://healthweather.us/\"\n",
       "            frameborder=\"0\"\n",
       "            allowfullscreen\n",
       "        ></iframe>\n",
       "        "
      ],
      "text/plain": [
       "<IPython.lib.display.IFrame at 0x11af7dd10>"
      ]
     },
     "execution_count": 9,
     "metadata": {},
     "output_type": "execute_result"
    }
   ],
   "source": [
    "IFrame(src='https://healthweather.us/', width=700, height=350)"
   ]
  },
  {
   "cell_type": "markdown",
   "metadata": {},
   "source": [
    "### Create Loop to Pull Data for every County"
   ]
  },
  {
   "cell_type": "code",
   "execution_count": null,
   "metadata": {},
   "outputs": [],
   "source": [
    "df_list = []  # empty dataframe to collect state data \n",
    "\n",
    "for state in us.states.STATES:\n",
    "    if state.abbr in ['AK', 'HI']:\n",
    "        print(f'no kinsa health data for state {state.abbr}')\n",
    "    \n",
    "    else:\n",
    "        print(f'https://static.kinsahealth.com/{state.abbr}_data.json')\n",
    "        \n",
    "        r = requests.get(\n",
    "            f'https://static.kinsahealth.com/{state.abbr}_data.json'\n",
    "        )\n",
    "\n",
    "        data = r.json()\n",
    "\n",
    "        df = pd.DataFrame(data['data'], columns=data['columns'])\n",
    "\n",
    "        df_list.append(df)  # add state df to df_list\n",
    "\n",
    "        time.sleep(1)  # be nice :) \n",
    "    \n",
    "df = pd.concat(df_list, sort=True)"
   ]
  },
  {
   "cell_type": "markdown",
   "metadata": {},
   "source": [
    "### Reorder Data Frame"
   ]
  },
  {
   "cell_type": "code",
   "execution_count": 13,
   "metadata": {},
   "outputs": [],
   "source": [
    "df = df[[\n",
    "    'region_id',\n",
    "    'region_name',\n",
    "    'date', \n",
    "    'anomaly_diff',\n",
    "    'atypical_ili',\n",
    "    'forecast_expected',\n",
    "    'forecast_lower',\n",
    "    'forecast_upper', \n",
    "    'observed_ili',    \n",
    "]]"
   ]
  },
  {
   "cell_type": "markdown",
   "metadata": {},
   "source": [
    "### Export data to a CSV"
   ]
  },
  {
   "cell_type": "code",
   "execution_count": 15,
   "metadata": {},
   "outputs": [],
   "source": [
    "df.to_csv('data_kinsa_health_data.csv', index=False)\n"
   ]
  }
 ],
 "metadata": {
  "kernelspec": {
   "display_name": "Python 3",
   "language": "python",
   "name": "python3"
  },
  "language_info": {
   "codemirror_mode": {
    "name": "ipython",
    "version": 3
   },
   "file_extension": ".py",
   "mimetype": "text/x-python",
   "name": "python",
   "nbconvert_exporter": "python",
   "pygments_lexer": "ipython3",
   "version": "3.7.4"
  }
 },
 "nbformat": 4,
 "nbformat_minor": 2
}
